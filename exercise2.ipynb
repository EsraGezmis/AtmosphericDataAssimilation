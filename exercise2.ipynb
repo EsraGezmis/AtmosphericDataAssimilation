{
 "cells": [
  {
   "cell_type": "markdown",
   "metadata": {},
   "source": [
    "If we list all the natural numbers below 10 that are multiples of 3 or 5, we get 3, 5, 6 and 9. The sum\n",
    "of these multiples is 23. Write a script called ”exercise2.py” to find the sum of all the multiples of 3 or\n",
    "5 below 1000."
   ]
  },
  {
   "cell_type": "code",
   "execution_count": 1,
   "metadata": {},
   "outputs": [
    {
     "name": "stdout",
     "output_type": "stream",
     "text": [
      "233168\n"
     ]
    }
   ],
   "source": [
    "items1=[]\n",
    "for i in range(1,1000):\n",
    "    x=i*3\n",
    "    if x<1000:\n",
    "        items1.append(x)\n",
    "for i in range(1,1000):\n",
    "    y=i*5\n",
    "    if y<1000 and y%3!=0:\n",
    "        items1.append(y)\n",
    "#print(items1)\n",
    "Summe=sum(items1)\n",
    "print(Summe)\n"
   ]
  },
  {
   "cell_type": "code",
   "execution_count": null,
   "metadata": {},
   "outputs": [],
   "source": []
  },
  {
   "cell_type": "code",
   "execution_count": null,
   "metadata": {},
   "outputs": [],
   "source": []
  }
 ],
 "metadata": {
  "kernelspec": {
   "display_name": "Python 3",
   "language": "python",
   "name": "python3"
  },
  "language_info": {
   "codemirror_mode": {
    "name": "ipython",
    "version": 3
   },
   "file_extension": ".py",
   "mimetype": "text/x-python",
   "name": "python",
   "nbconvert_exporter": "python",
   "pygments_lexer": "ipython3",
   "version": "3.6.4"
  }
 },
 "nbformat": 4,
 "nbformat_minor": 2
}
