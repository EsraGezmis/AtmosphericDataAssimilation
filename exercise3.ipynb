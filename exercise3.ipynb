{
 "cells": [
  {
   "cell_type": "code",
   "execution_count": 3,
   "metadata": {},
   "outputs": [
    {
     "data": {
      "text/plain": [
       "array([-0.1698886 ,  2.08957955, -0.50928942,  0.23722091, -0.32762866,\n",
       "        0.50002857,  0.50375918, -1.0983096 ,  1.16739357,  0.66801663])"
      ]
     },
     "execution_count": 3,
     "metadata": {},
     "output_type": "execute_result"
    }
   ],
   "source": [
    "import numpy as np\n",
    "\n",
    "#sigma * np.random.randn(...) + mu\n",
    "sigma =1\n",
    "mu = 0\n",
    "sigma * np.random.randn(10) + mu\n"
   ]
  },
  {
   "cell_type": "code",
   "execution_count": null,
   "metadata": {},
   "outputs": [],
   "source": []
  },
  {
   "cell_type": "code",
   "execution_count": 12,
   "metadata": {},
   "outputs": [
    {
     "name": "stdout",
     "output_type": "stream",
     "text": [
      "384159999.99999994\n"
     ]
    }
   ],
   "source": [
    "#n= sigma²*z-score²/a¹\n",
    "var=1 #sigma²=var\n",
    "zscore=1.96\n",
    "a=10**-4\n",
    "\n",
    "n=var*zscore**2/a**2\n",
    "print(n)"
   ]
  },
  {
   "cell_type": "code",
   "execution_count": 13,
   "metadata": {},
   "outputs": [
    {
     "name": "stdout",
     "output_type": "stream",
     "text": [
      "38416000.0\n"
     ]
    }
   ],
   "source": [
    "var=0.1\n",
    "zscore=1.96\n",
    "a=10**-4\n",
    "\n",
    "n=var*zscore**2/a**2\n",
    "print(n)"
   ]
  },
  {
   "cell_type": "code",
   "execution_count": null,
   "metadata": {},
   "outputs": [],
   "source": []
  }
 ],
 "metadata": {
  "kernelspec": {
   "display_name": "Python 3",
   "language": "python",
   "name": "python3"
  },
  "language_info": {
   "codemirror_mode": {
    "name": "ipython",
    "version": 3
   },
   "file_extension": ".py",
   "mimetype": "text/x-python",
   "name": "python",
   "nbconvert_exporter": "python",
   "pygments_lexer": "ipython3",
   "version": "3.6.4"
  }
 },
 "nbformat": 4,
 "nbformat_minor": 2
}
