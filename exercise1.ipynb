{
 "cells": [
  {
   "cell_type": "code",
   "execution_count": 3,
   "metadata": {},
   "outputs": [
    {
     "name": "stdout",
     "output_type": "stream",
     "text": [
      "[1, 2, 3, 4, 5, 6, 7, 8, 9]\n"
     ]
    }
   ],
   "source": [
    "constructs and prints the sequence a = 1, 2, . . . , 8, 9#\n",
    "items1=[]\n",
    "for i in range(0,9):\n",
    "    x=i+1\n",
    "    items1.append(x)\n",
    "print(items1)\n"
   ]
  },
  {
   "cell_type": "code",
   "execution_count": 4,
   "metadata": {},
   "outputs": [
    {
     "name": "stdout",
     "output_type": "stream",
     "text": [
      "[1, 3, 5, 7, 9, 11, 13, 15, 17]\n"
     ]
    }
   ],
   "source": [
    "#constructs and prints the sequence b = 1, 3, 5, . . . , 15, 17\n",
    "items2=[]\n",
    "def function(x):\n",
    "    return x%2!=0\n",
    "for i in range(0,17):\n",
    "    y=i+1\n",
    "    items2.append(y)\n",
    "    items2 = list((filter(function, items2)))\n",
    "print(items2)"
   ]
  },
  {
   "cell_type": "code",
   "execution_count": 23,
   "metadata": {},
   "outputs": [
    {
     "name": "stdout",
     "output_type": "stream",
     "text": [
      "[1, 6, 15, 28, 45, 66, 91, 120, 153]\n"
     ]
    }
   ],
   "source": [
    "#calculates and prints the sum of the elementwise product of sequence a and b\n",
    "items3=[]\n",
    "for i in range(0,9):\n",
    "    c=items1[i]*items2[i]\n",
    "    items3.append(c)\n",
    "print(items3)\n",
    "    "
   ]
  }
 ],
 "metadata": {
  "kernelspec": {
   "display_name": "Python 3",
   "language": "python",
   "name": "python3"
  },
  "language_info": {
   "codemirror_mode": {
    "name": "ipython",
    "version": 3
   },
   "file_extension": ".py",
   "mimetype": "text/x-python",
   "name": "python",
   "nbconvert_exporter": "python",
   "pygments_lexer": "ipython3",
   "version": "3.6.4"
  }
 },
 "nbformat": 4,
 "nbformat_minor": 2
}
